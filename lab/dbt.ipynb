{
 "cells": [
  {
   "cell_type": "markdown",
   "id": "566db942-3a44-4917-aec4-650d73418b42",
   "metadata": {},
   "source": [
    "# dbt (data build tool)\n",
    "[dbt](https://docs.getdbt.com/docs/introduction) does not extract or load data, but it’s state-of-the-art at transforming data that’s already available in a database — dbt does the T in ELT (Extract, Load, Transform) processes \"inside a DWH\"."
   ]
  },
  {
   "cell_type": "markdown",
   "id": "3c3cc26f-0df5-4d67-91a7-dc7beeaaf581",
   "metadata": {},
   "source": [
    "---\n"
   ]
  },
  {
   "cell_type": "markdown",
   "id": "3062dfab-40cf-4682-95e0-cd43e28b3cde",
   "metadata": {},
   "source": [
    "## Set-up\n",
    "### PostgreSQL\n",
    "#### Start PostgreSQL database using the controlboard\n",
    "Let's assume our raw data lives in a PostgreSQL database. Follow the instructions in the Notebook [Controlboard](controlboard.ipynb). \n",
    "\n",
    "#### Create a new table for dbt in PostgreSQL\n",
    "<div class=\"alert alert-block alert-info\">\n",
    "<b>Note:</b> To run this code, make sure you select \"Python 3 (ipkernel)\" (Kernel -> Change Kernel)\n",
    "</div>\n",
    "\n",
    "Create a new database for this tutorial:"
   ]
  },
  {
   "cell_type": "code",
   "execution_count": 1,
   "id": "c37bb6a8-d171-4e4c-b0b1-b268164b0db8",
   "metadata": {},
   "outputs": [],
   "source": [
    "from sqlalchemy import create_engine, MetaData\n",
    "from sqlalchemy_utils import database_exists, create_database\n",
    "from urllib import parse"
   ]
  },
  {
   "cell_type": "code",
   "execution_count": 4,
   "id": "30ff52cf-0818-4e9f-82ee-5bbea4cdd807",
   "metadata": {},
   "outputs": [],
   "source": [
    "# Name of your database - this database does NOT exist yet (create it below with `create_database()`)\n",
    "database = 'tutorial'\n",
    "username = 'dbuser'\n",
    "password = 'rA4I2WYECsV4bqbw'\n",
    "\n",
    "# Connection details according to docker-compose.yml - do not change this\n",
    "dialect = 'postgresql'  # Could be almost any other DB technology\n",
    "host = 'postgresql.myproject.svc.cluster.local'  # Name of the Kubernetes service\n",
    "port = 5432\n",
    "\n",
    "# URL-encode password for characters like %, ä, ...\n",
    "password = parse.quote_plus(password)\n",
    "\n",
    "url = f'{dialect}://{username}:{password}@{host}:{port}/{database}'\n",
    "engine = create_engine(url)"
   ]
  },
  {
   "cell_type": "code",
   "execution_count": 5,
   "id": "72c589d2-d3bb-4a45-b8cb-62ef1a15d7c5",
   "metadata": {},
   "outputs": [
    {
     "name": "stdout",
     "output_type": "stream",
     "text": [
      "Database \"tutorial\" exists: True\n"
     ]
    }
   ],
   "source": [
    "if not database_exists(engine.url):\n",
    "    create_database(engine.url)\n",
    "\n",
    "print(f'Database \"{database}\" exists: {database_exists(engine.url)}')"
   ]
  },
  {
   "cell_type": "markdown",
   "id": "e9c445c0-a147-4411-8adf-65b8dc67b92c",
   "metadata": {},
   "source": [
    "### Init dbt\n",
    "We are using the Terminal within Jupyter since dbt expects some answers using the command prompt - this is impossible to implement using Jupyter cells here :-(. \n",
    "\n",
    "1. In Jupyter, hit the blue \"+\" sign at the top left and start a new Terminal\n",
    "2. Create a new folder for dbt projects, then navigate to it:\n",
    "```console\n",
    "mkdir -p ~/work/dbt\n",
    "cd ~/work/dbt\n",
    "```\n",
    "3. Tell the Terminal that you want to use the Python environment `dbt` instead of the standard `base` one (otherwise you'll get an error \"bash: dbt: command not found\"):\n",
    "```console\n",
    "(base) jovyan@...:~/$ conda activate dbt\n",
    "(dbt) jovyan@...:~/$ \n",
    "```"
   ]
  },
  {
   "cell_type": "markdown",
   "id": "725511d1-e274-4247-b84c-a42f984cf371",
   "metadata": {},
   "source": [
    "4. Initialize dbt to create a new project called e.g. `tutorial` an entire new folder structure for your dbt project:\n",
    "```console\n",
    "dbt init tutorial\n",
    "```\n",
    "5. Answer dbt's questions e.g. like this:\n",
    "    * Enter a name for your project (letters, digits, underscore): `tutorial`\n",
    "    * Which database would you like to use? `1`\n",
    "6. dbt saves connection infos by default to `~/.dbt/profiles.yml`. This is not useful since that file will be lost quickly if our Jupyter pod get deleted. Let's safe settings to e.g. `/data/dbt`:\n",
    "```console\n",
    "$ mkdir ~/data/dbt\n",
    "```\n",
    "7. Using Jupyter's file browser on the left, navigate to `/data/dbt`, right click into the empty large field below \"Name\" and create a new file called `profiles.yml`. Double click to open it.\n",
    "8. Paste the following. Don't forget to set a password; the rest should be fine as-is.\n",
    "```yaml\n",
    "tutorial:\n",
    "  outputs:\n",
    "\n",
    "    dev:\n",
    "      type: postgres\n",
    "      threads: 1\n",
    "      host: postgresql.myproject.svc.cluster.local\n",
    "      port: 5432\n",
    "      user: dbuser\n",
    "      pass: rA4I2WYECsV4bqbw\n",
    "      dbname: tutorial\n",
    "      schema: public\n",
    "\n",
    "  target: dev\n",
    "\n",
    "```\n",
    "9. Test your set-up using the terminal again:\n",
    "```console\n",
    "$ cd /home/jovyan/work/dbt/tutorial\n",
    "$ dbt debug --profiles-dir /home/jovyan/data/dbt\n",
    "```"
   ]
  },
  {
   "cell_type": "markdown",
   "id": "7276df06-98c7-4a92-b8db-984e14eaddeb",
   "metadata": {},
   "source": [
    "## Set-up "
   ]
  },
  {
   "cell_type": "markdown",
   "id": "b9ef23e9-4f10-4cc4-9da3-f0d2e193d6b2",
   "metadata": {},
   "source": [
    "Make sure that you can view hidden Linux files: go to View -> \"Show Hidden Files\"\n",
    "<div class=\"alert alert-block alert-info\">\n",
    "<b>Note:</b> Jupyter's \"Show Hidden Files\" is currently broken - you won't see all dbt files. Either edit any dbt files on your host computer or use the Jupyter command prompt.\n",
    "</div>"
   ]
  },
  {
   "cell_type": "markdown",
   "id": "0fee02c1-71d8-4e66-93c0-a243df68c288",
   "metadata": {},
   "source": [
    "## Set-up git\n",
    "Todo"
   ]
  },
  {
   "cell_type": "markdown",
   "id": "3c06b803-c366-4193-b4c5-060c8b8d174c",
   "metadata": {},
   "source": [
    "## Extract and load\n",
    "Switch kernel from `dbt` to `Python 3 (ipkernel)`"
   ]
  },
  {
   "cell_type": "code",
   "execution_count": null,
   "id": "63c5186e-52ae-4713-91b7-c89911386c38",
   "metadata": {},
   "outputs": [],
   "source": [
    "from sqlalchemy import create_engine, MetaData\n",
    "from sqlalchemy_utils import database_exists, create_database\n",
    "from urllib import parse\n",
    "\n",
    "import pandas as pd\n",
    "import requests\n",
    "import json\n",
    "\n",
    "raw_data_url = 'https://github.com/openZH/covid_19/raw/master/fallzahlen_kanton_alter_geschlecht_csv/COVID19_Fallzahlen_Kanton_ZH_altersklassen_geschlecht.csv'\n",
    "coingecko = 'https://api.coingecko.com/api/v3'\n",
    "endpoint = '/coins/ethereum/market_chart'\n",
    "params = {\n",
    "    'vs_currency': 'CHF',\n",
    "    'days': 90,\n",
    "    'interval': 'hourly'\n",
    "}"
   ]
  },
  {
   "cell_type": "code",
   "execution_count": null,
   "id": "184778cb-b5ec-4e37-99ab-c6ed76d5045f",
   "metadata": {},
   "outputs": [],
   "source": [
    "# Name of your database - this database does NOT exist yet (create it below with `create_database()`)\n",
    "database = 'tutorial'\n",
    "username = 'dbuser'\n",
    "password = '662VZUE5RJJG2puI'\n",
    "\n",
    "# Connection details according to docker-compose.yml - do not change this\n",
    "dialect = 'postgresql'  # Could be almost any other DB technology\n",
    "host = 'postgresql.myproject.svc.cluster.local'  # Name of the Kubernetes service\n",
    "port = 5432\n",
    "\n",
    "# URL-encode password for characters like %, ä, ...\n",
    "password = parse.quote_plus(password)\n",
    "\n",
    "url = f'{dialect}://{username}:{password}@{host}:{port}/{database}'\n",
    "engine = create_engine(url)"
   ]
  },
  {
   "cell_type": "code",
   "execution_count": null,
   "id": "8627bb65-a5c1-420a-b2c4-08a3f68759c0",
   "metadata": {},
   "outputs": [],
   "source": [
    "if not database_exists(engine.url):\n",
    "    create_database(engine.url)\n",
    "\n",
    "print(f'Database \"{database}\" exists: {database_exists(engine.url)}')"
   ]
  },
  {
   "cell_type": "code",
   "execution_count": null,
   "id": "920be0c9-de8a-4254-9f77-60e3ff948dac",
   "metadata": {},
   "outputs": [],
   "source": [
    "df = pd.read_csv(raw_data_url)\n",
    "df"
   ]
  },
  {
   "cell_type": "code",
   "execution_count": null,
   "id": "68a4c537-b399-4f2c-8c23-79acae9b1eb0",
   "metadata": {},
   "outputs": [],
   "source": [
    "r = requests.get(coingecko + endpoint, params=params)\n",
    "r"
   ]
  },
  {
   "cell_type": "code",
   "execution_count": null,
   "id": "592d3d1a-b17f-40eb-91c2-55efb4721043",
   "metadata": {},
   "outputs": [],
   "source": [
    "df = json.loads(r.text)\n",
    "df = df['prices']\n",
    "df = pd.DataFrame(df, columns=['time', 'value'])"
   ]
  },
  {
   "cell_type": "code",
   "execution_count": null,
   "id": "960a8114-c370-4e61-a939-0fd5d3efd9f4",
   "metadata": {},
   "outputs": [],
   "source": [
    "df['time'] = pd.to_datetime(df['time'] * 1000000)"
   ]
  },
  {
   "cell_type": "code",
   "execution_count": null,
   "id": "310d4f3f-85a4-48e5-aa5f-31585e66fa33",
   "metadata": {},
   "outputs": [],
   "source": [
    "df"
   ]
  },
  {
   "cell_type": "code",
   "execution_count": null,
   "id": "107ec699-e310-4a19-87ff-3ed12b17622a",
   "metadata": {},
   "outputs": [],
   "source": [
    "df.to_sql(\n",
    "    'raw_data',  # table name\n",
    "    con=engine,\n",
    "    if_exists='replace',\n",
    "    index=False,  # In order to avoid writing DataFrame index as a column\n",
    ")"
   ]
  },
  {
   "cell_type": "code",
   "execution_count": null,
   "id": "ac1704b8-8529-40b1-bb1a-2a6b8406f4af",
   "metadata": {},
   "outputs": [],
   "source": [
    "df2 = pd.read_sql('SELECT * FROM raw_data', con=engine)"
   ]
  },
  {
   "cell_type": "code",
   "execution_count": null,
   "id": "e5f22d2f-cbc2-4312-b309-e22a0b603c6f",
   "metadata": {},
   "outputs": [],
   "source": [
    "df2"
   ]
  },
  {
   "cell_type": "markdown",
   "id": "95314127-a6af-487b-8c0f-67ed24760d72",
   "metadata": {},
   "source": [
    "## Energy Data\n",
    "Have a look at the [API documentation for details](https://www.eia.gov/opendata/documentation.php) if you're interested. "
   ]
  },
  {
   "cell_type": "code",
   "execution_count": 264,
   "id": "5c602221-f419-4af7-8365-a100408e431d",
   "metadata": {},
   "outputs": [
    {
     "name": "stdout",
     "output_type": "stream",
     "text": [
      "Collecting python-dotenv\n",
      "  Downloading python_dotenv-0.21.0-py3-none-any.whl (18 kB)\n",
      "Installing collected packages: python-dotenv\n",
      "Successfully installed python-dotenv-0.21.0\n"
     ]
    }
   ],
   "source": [
    "! pip install python-dotenv"
   ]
  },
  {
   "cell_type": "code",
   "execution_count": 280,
   "id": "aa99f771-f557-4355-81a8-1621be4ab64b",
   "metadata": {},
   "outputs": [],
   "source": [
    "import requests\n",
    "import json\n",
    "import pandas as pd\n",
    "from pandas_profiling import ProfileReport\n",
    "from pprint import pprint\n",
    "import pendulum\n",
    "import seaborn as sns"
   ]
  },
  {
   "cell_type": "markdown",
   "id": "f63501d9-f502-482e-a0cf-7fe7886f7aee",
   "metadata": {},
   "source": [
    "### API key and correct key handling\n",
    "Register here to get an API key: https://www.eia.gov/opendata/register.php, takes 30 seconds. Create a new file `environment.env` in the same directory where this Notebook lies with the following content. Note that **no \\*.env file is checked into GitHub** - you're responsible for backing these files up. \n",
    "```console\n",
    "# API key for https://api.eia.gov\n",
    "API_EIA_GOV_KEY=<enter your API key here>\n",
    "```"
   ]
  },
  {
   "cell_type": "markdown",
   "id": "990968f8-b8a6-4f1c-9866-5ee0fa49468f",
   "metadata": {},
   "source": [
    "Load the secret like this:"
   ]
  },
  {
   "cell_type": "code",
   "execution_count": 282,
   "id": "311ff36e-6fa5-4bce-88fa-3dec4c695716",
   "metadata": {},
   "outputs": [],
   "source": [
    "from dotenv import load_dotenv\n",
    "load_dotenv('environment.env', override=True)  # take environment variables from environment.env\n",
    "\n",
    "import os\n",
    "api_key = os.getenv('API_EIA_GOV_KEY')"
   ]
  },
  {
   "cell_type": "markdown",
   "id": "cfe8842a-1440-49aa-8de2-7c0b0647e24e",
   "metadata": {},
   "source": [
    "### Logging / informing the Jupyter Notebook user\n",
    "We want to later put any functions here in Python modules and use Airflow. Instead of simply using `print()` in Jupyter Notebooks to get e.g. info on the current download status of data, let's use Python `logging`."
   ]
  },
  {
   "cell_type": "code",
   "execution_count": 225,
   "id": "df89a139-fbdc-42f3-b84a-a8986d298246",
   "metadata": {},
   "outputs": [],
   "source": [
    "import logging\n",
    "\n",
    "# Render INFO messages visible in a Jupyter Notebook\n",
    "logger = logging.getLogger()\n",
    "logger.setLevel(logging.INFO)"
   ]
  },
  {
   "cell_type": "markdown",
   "id": "d35d1d76-bbb4-4a09-983f-792db98fe219",
   "metadata": {},
   "source": [
    "### Functions\n",
    "The API always needs an api key, a path and optional parameters. It returns JSON answers. Let's define a function that simplifies that and returns a Python dictionary."
   ]
  },
  {
   "cell_type": "code",
   "execution_count": 220,
   "id": "2584dd79-42b8-41bb-b215-d21412f9380c",
   "metadata": {},
   "outputs": [],
   "source": [
    "def eia_api(api_key, path, params=None):\n",
    "    \"\"\"\n",
    "    Hit the API of https://api.eia.gov at endpoint path (str)\n",
    "    and optional URL parameters params (dict), e.g.\n",
    "        api_key = '92nfLKfek3751lFLjfel34873'\n",
    "        path = '/v2/electricity/rto'\n",
    "        params = {'frequency': 'hourly', 'data[0]': 'value'}\n",
    "\n",
    "    Returns result as dict; will remove the API key in the\n",
    "    answer!\n",
    "    Raises requests.exceptions.HTTPError if we get an HTTP\n",
    "    status code of >=400\n",
    "    \"\"\"\n",
    "    url = 'https://api.eia.gov'\n",
    "    params = params or dict()\n",
    "    params['api_key'] = api_key\n",
    "    data = requests.get(url + path, params=params)\n",
    "    data.raise_for_status()\n",
    "    answer = json.loads(data.text)\n",
    "    # Sanitize the return - get rid of the API key!\n",
    "    try:\n",
    "        del answer['request']['params']['api_key']\n",
    "    except KeyError:\n",
    "        pass\n",
    "    return answer"
   ]
  },
  {
   "cell_type": "markdown",
   "id": "db18c361-4855-464a-a9d3-949059c662d8",
   "metadata": {},
   "source": [
    "Once the API actually returns data, it will do that in batches of ~5'000 entries only and JSON encoded. Let's define a function that returns a Pandas dataframe for that. Since the download could take forever, sprinkle `logging.info()` log entries to tell the user that something is happening. "
   ]
  },
  {
   "cell_type": "code",
   "execution_count": 208,
   "id": "bdeef9f6-d56c-4982-abc6-021bda806b1a",
   "metadata": {},
   "outputs": [],
   "source": [
    "def eia_api_data(api_key, path, params=None):\n",
    "    \"\"\"\n",
    "    Hit the API of https://api.eia.gov at endpoint path (str)\n",
    "    and optional URL parameters params (dict), e.g.\n",
    "        api_key = '92nfLKfek3751lFLjfel34873'\n",
    "        path = '/v2/electricity/rto/data'\n",
    "        params = {'frequency': 'hourly', 'data[0]': 'value'}\n",
    "    Your path should probably end in `/data`!\n",
    "\n",
    "    Returns result as dataframe\n",
    "    Raises requests.exceptions.HTTPError if we get an HTTP\n",
    "    status code of >=400\n",
    "    Raises KeyError if you hit the wrong API endpoint\n",
    "    \"\"\"\n",
    "    logging.info('Start data download')\n",
    "    params = params or dict()\n",
    "    data = eia_api(api_key, path, params)\n",
    "    df = pd.DataFrame.from_dict(data['response']['data'])\n",
    "    while data['response']['total'] > len(df):\n",
    "        logging.info(f'Grabbing entries >{len(df)} of {data[\"response\"][\"total\"]} entries total')\n",
    "        params['offset'] = len(df)\n",
    "        data = eia_api(api_key, path, params=params)\n",
    "        df = pd.concat([df, pd.DataFrame.from_dict(data['response']['data'])])\n",
    "    df.reset_index(drop=True, inplace=True)\n",
    "    logging.info('Finished data download')\n",
    "    return df"
   ]
  },
  {
   "cell_type": "markdown",
   "id": "c735d873-a34a-4fd9-b27f-8688c8f15a80",
   "metadata": {},
   "source": [
    "### Play with the API\n",
    "Let's get more info on the API by hitting a couple of endpoints. The API returns JSON answers. Our function `eia_api()` turns JSON answers to Python dictionaries. Use `pprint()` to render the convoluted answers readable. "
   ]
  },
  {
   "cell_type": "code",
   "execution_count": null,
   "id": "f619851f-feb7-4d68-9839-1c5511a18f49",
   "metadata": {},
   "outputs": [],
   "source": [
    "path = '/v2/electricity/rto'\n",
    "pprint(eia_api(api_key, path))"
   ]
  },
  {
   "cell_type": "code",
   "execution_count": null,
   "id": "b2f57741-2135-4fd9-bbb8-a0aa331e0dfa",
   "metadata": {},
   "outputs": [],
   "source": [
    "path = '/v2/electricity/rto/fuel-type-data'\n",
    "pprint(eia_api(api_key, path))"
   ]
  },
  {
   "cell_type": "code",
   "execution_count": null,
   "id": "486302d1-9746-4d7f-bdf4-9a5ba0e27c41",
   "metadata": {},
   "outputs": [],
   "source": [
    "path = '/v2/electricity/rto/region-data'\n",
    "pprint(eia_api(api_key, path))"
   ]
  },
  {
   "cell_type": "markdown",
   "id": "03ce2007-c9bc-4ae3-8847-991e25908a5b",
   "metadata": {},
   "source": [
    "### Get the data\n",
    "We will use the endpiont `/v2/electricity/rto/region-data`, seems the most interesting one. \n",
    "<div class=\"alert alert-block alert-info\">\n",
    "<b>Caution:</b> Manually adjust the `start` here to only 5-7 days prior to today's date. Otherwise you'll wait forever. \n",
    "</div>"
   ]
  },
  {
   "cell_type": "code",
   "execution_count": 227,
   "id": "cc0fd505-327b-48a7-bbb2-3169164c956e",
   "metadata": {},
   "outputs": [
    {
     "name": "stderr",
     "output_type": "stream",
     "text": [
      "INFO:root:Start data download\n",
      "INFO:root:Grabbing entries >5000 of 32060 entries total\n",
      "INFO:root:Grabbing entries >10000 of 32060 entries total\n",
      "INFO:root:Grabbing entries >15000 of 32060 entries total\n",
      "INFO:root:Grabbing entries >20000 of 32060 entries total\n",
      "INFO:root:Grabbing entries >25000 of 32060 entries total\n",
      "INFO:root:Grabbing entries >30000 of 32060 entries total\n",
      "INFO:root:Finished data download\n"
     ]
    },
    {
     "data": {
      "text/html": [
       "<div>\n",
       "<style scoped>\n",
       "    .dataframe tbody tr th:only-of-type {\n",
       "        vertical-align: middle;\n",
       "    }\n",
       "\n",
       "    .dataframe tbody tr th {\n",
       "        vertical-align: top;\n",
       "    }\n",
       "\n",
       "    .dataframe thead th {\n",
       "        text-align: right;\n",
       "    }\n",
       "</style>\n",
       "<table border=\"1\" class=\"dataframe\">\n",
       "  <thead>\n",
       "    <tr style=\"text-align: right;\">\n",
       "      <th></th>\n",
       "      <th>period</th>\n",
       "      <th>respondent</th>\n",
       "      <th>respondent-name</th>\n",
       "      <th>type</th>\n",
       "      <th>type-name</th>\n",
       "      <th>value</th>\n",
       "      <th>value-units</th>\n",
       "    </tr>\n",
       "  </thead>\n",
       "  <tbody>\n",
       "    <tr>\n",
       "      <th>0</th>\n",
       "      <td>2022-09-02T01</td>\n",
       "      <td>SCL</td>\n",
       "      <td>Seattle City Light</td>\n",
       "      <td>DF</td>\n",
       "      <td>Day-ahead demand forecast</td>\n",
       "      <td>1119.0</td>\n",
       "      <td>megawatthours</td>\n",
       "    </tr>\n",
       "    <tr>\n",
       "      <th>1</th>\n",
       "      <td>2022-09-02T04</td>\n",
       "      <td>SW</td>\n",
       "      <td>Southwest</td>\n",
       "      <td>DF</td>\n",
       "      <td>Day-ahead demand forecast</td>\n",
       "      <td>12875.0</td>\n",
       "      <td>megawatthours</td>\n",
       "    </tr>\n",
       "    <tr>\n",
       "      <th>2</th>\n",
       "      <td>2022-09-02T02</td>\n",
       "      <td>SPA</td>\n",
       "      <td>Southwestern Power Administration</td>\n",
       "      <td>DF</td>\n",
       "      <td>Day-ahead demand forecast</td>\n",
       "      <td>80.0</td>\n",
       "      <td>megawatthours</td>\n",
       "    </tr>\n",
       "    <tr>\n",
       "      <th>3</th>\n",
       "      <td>2022-09-02T00</td>\n",
       "      <td>MISO</td>\n",
       "      <td>Midcontinent Independent System Operator, Inc.</td>\n",
       "      <td>DF</td>\n",
       "      <td>Day-ahead demand forecast</td>\n",
       "      <td>100524.0</td>\n",
       "      <td>megawatthours</td>\n",
       "    </tr>\n",
       "    <tr>\n",
       "      <th>4</th>\n",
       "      <td>2022-09-02T04</td>\n",
       "      <td>TEN</td>\n",
       "      <td>Tennessee</td>\n",
       "      <td>DF</td>\n",
       "      <td>Day-ahead demand forecast</td>\n",
       "      <td>19448.0</td>\n",
       "      <td>megawatthours</td>\n",
       "    </tr>\n",
       "    <tr>\n",
       "      <th>...</th>\n",
       "      <td>...</td>\n",
       "      <td>...</td>\n",
       "      <td>...</td>\n",
       "      <td>...</td>\n",
       "      <td>...</td>\n",
       "      <td>...</td>\n",
       "      <td>...</td>\n",
       "    </tr>\n",
       "    <tr>\n",
       "      <th>32055</th>\n",
       "      <td>2022-09-04T03</td>\n",
       "      <td>CAR</td>\n",
       "      <td>Carolinas</td>\n",
       "      <td>NG</td>\n",
       "      <td>Net generation</td>\n",
       "      <td>27351.0</td>\n",
       "      <td>megawatthours</td>\n",
       "    </tr>\n",
       "    <tr>\n",
       "      <th>32056</th>\n",
       "      <td>2022-09-04T02</td>\n",
       "      <td>DOPD</td>\n",
       "      <td>PUD No. 1 of Douglas County</td>\n",
       "      <td>NG</td>\n",
       "      <td>Net generation</td>\n",
       "      <td>167.0</td>\n",
       "      <td>megawatthours</td>\n",
       "    </tr>\n",
       "    <tr>\n",
       "      <th>32057</th>\n",
       "      <td>2022-09-03T08</td>\n",
       "      <td>EPE</td>\n",
       "      <td>El Paso Electric Company</td>\n",
       "      <td>TI</td>\n",
       "      <td>Total interchange</td>\n",
       "      <td>-382.0</td>\n",
       "      <td>megawatthours</td>\n",
       "    </tr>\n",
       "    <tr>\n",
       "      <th>32058</th>\n",
       "      <td>2022-09-03T13</td>\n",
       "      <td>HGMA</td>\n",
       "      <td>New Harquahala Generating Company, LLC</td>\n",
       "      <td>NG</td>\n",
       "      <td>Net generation</td>\n",
       "      <td>956.0</td>\n",
       "      <td>megawatthours</td>\n",
       "    </tr>\n",
       "    <tr>\n",
       "      <th>32059</th>\n",
       "      <td>2022-09-03T16</td>\n",
       "      <td>TAL</td>\n",
       "      <td>City of Tallahassee</td>\n",
       "      <td>TI</td>\n",
       "      <td>Total interchange</td>\n",
       "      <td>0.0</td>\n",
       "      <td>megawatthours</td>\n",
       "    </tr>\n",
       "  </tbody>\n",
       "</table>\n",
       "<p>32060 rows × 7 columns</p>\n",
       "</div>"
      ],
      "text/plain": [
       "              period respondent  \\\n",
       "0      2022-09-02T01        SCL   \n",
       "1      2022-09-02T04         SW   \n",
       "2      2022-09-02T02        SPA   \n",
       "3      2022-09-02T00       MISO   \n",
       "4      2022-09-02T04        TEN   \n",
       "...              ...        ...   \n",
       "32055  2022-09-04T03        CAR   \n",
       "32056  2022-09-04T02       DOPD   \n",
       "32057  2022-09-03T08        EPE   \n",
       "32058  2022-09-03T13       HGMA   \n",
       "32059  2022-09-03T16        TAL   \n",
       "\n",
       "                                      respondent-name type  \\\n",
       "0                                  Seattle City Light   DF   \n",
       "1                                           Southwest   DF   \n",
       "2                   Southwestern Power Administration   DF   \n",
       "3      Midcontinent Independent System Operator, Inc.   DF   \n",
       "4                                           Tennessee   DF   \n",
       "...                                               ...  ...   \n",
       "32055                                       Carolinas   NG   \n",
       "32056                     PUD No. 1 of Douglas County   NG   \n",
       "32057                        El Paso Electric Company   TI   \n",
       "32058          New Harquahala Generating Company, LLC   NG   \n",
       "32059                             City of Tallahassee   TI   \n",
       "\n",
       "                       type-name     value    value-units  \n",
       "0      Day-ahead demand forecast    1119.0  megawatthours  \n",
       "1      Day-ahead demand forecast   12875.0  megawatthours  \n",
       "2      Day-ahead demand forecast      80.0  megawatthours  \n",
       "3      Day-ahead demand forecast  100524.0  megawatthours  \n",
       "4      Day-ahead demand forecast   19448.0  megawatthours  \n",
       "...                          ...       ...            ...  \n",
       "32055             Net generation   27351.0  megawatthours  \n",
       "32056             Net generation     167.0  megawatthours  \n",
       "32057          Total interchange    -382.0  megawatthours  \n",
       "32058             Net generation     956.0  megawatthours  \n",
       "32059          Total interchange       0.0  megawatthours  \n",
       "\n",
       "[32060 rows x 7 columns]"
      ]
     },
     "execution_count": 227,
     "metadata": {},
     "output_type": "execute_result"
    }
   ],
   "source": [
    "path = '/v2/electricity/rto/region-data/data'\n",
    "params = {\n",
    "    \"frequency\": \"hourly\",\n",
    "    \"data[0]\": \"value\",\n",
    "    \"facets\": {},\n",
    "    \"start\": \"2022-09-02T00\",\n",
    "    # \"stop\": \"2022-09-02T00\"\n",
    "}\n",
    "region_data = eia_api_data(api_key, path, params=params)\n",
    "region_data"
   ]
  },
  {
   "cell_type": "markdown",
   "id": "caeffdd5-d7b8-49f3-8a31-e72285fc433f",
   "metadata": {},
   "source": [
    "To get a lazy first look at the API's answers, `pandas_profiling.ProfileReport()` is useful for that:"
   ]
  },
  {
   "cell_type": "code",
   "execution_count": null,
   "id": "d6112868-d341-4ea4-b787-19b72adb28c6",
   "metadata": {},
   "outputs": [],
   "source": [
    "ProfileReport(region_data)"
   ]
  },
  {
   "cell_type": "markdown",
   "id": "27258b46-030e-4b03-ac12-4ff4e8b3ebf8",
   "metadata": {},
   "source": [
    "The field `period` is still of type string, convert it to a sensible timestamp:"
   ]
  },
  {
   "cell_type": "code",
   "execution_count": null,
   "id": "542ba820-c714-4b71-be2f-320287dd10bc",
   "metadata": {},
   "outputs": [],
   "source": [
    "region_data['period'].apply(pendulum.parse, inplace=True)"
   ]
  },
  {
   "cell_type": "markdown",
   "id": "bd3d4c34-2b1a-4811-841c-3f488c7f7856",
   "metadata": {},
   "source": [
    "Let's plot all values for a certain respondent"
   ]
  },
  {
   "cell_type": "code",
   "execution_count": 260,
   "id": "49255fae-dac5-4f27-881b-568cce377164",
   "metadata": {},
   "outputs": [
    {
     "data": {
      "text/plain": [
       "<seaborn.axisgrid.FacetGrid at 0x7fd5ee7cbac0>"
      ]
     },
     "execution_count": 260,
     "metadata": {},
     "output_type": "execute_result"
    },
    {
     "data": {
      "image/png": "[encoded data removed]",
      "text/plain": [
       "<Figure size 747.875x500 with 1 Axes>"
      ]
     },
     "metadata": {},
     "output_type": "display_data"
    }
   ],
   "source": [
    "respondent = 'SW'\n",
    "\n",
    "sns.relplot(data=region_data[region_data['respondent'] == respondent].dropna(), x='period', y='value', hue='type-name')"
   ]
  },
  {
   "cell_type": "code",
   "execution_count": null,
   "id": "f73ce101-4bea-4d6b-b807-634481f53207",
   "metadata": {},
   "outputs": [],
   "source": []
  }
 ],
 "metadata": {
  "kernelspec": {
   "display_name": "Python 3 (ipykernel)",
   "language": "python",
   "name": "python3"
  },
  "language_info": {
   "codemirror_mode": {
    "name": "ipython",
    "version": 3
   },
   "file_extension": ".py",
   "mimetype": "text/x-python",
   "name": "python",
   "nbconvert_exporter": "python",
   "pygments_lexer": "ipython3",
   "version": "3.10.6"
  }
 },
 "nbformat": 4,
 "nbformat_minor": 5
}
