{
 "cells": [
  {
   "cell_type": "markdown",
   "id": "566db942-3a44-4917-aec4-650d73418b42",
   "metadata": {},
   "source": [
    "# dbt (data build tool)\n",
    "[dbt](https://docs.getdbt.com/docs/introduction) does not extract or load data, but it’s state-of-the-art at transforming data that’s already available in a database — dbt does the T in ELT (Extract, Load, Transform) processes."
   ]
  },
  {
   "cell_type": "markdown",
   "id": "3c3cc26f-0df5-4d67-91a7-dc7beeaaf581",
   "metadata": {},
   "source": [
    "---\n"
   ]
  },
  {
   "cell_type": "markdown",
   "id": "3062dfab-40cf-4682-95e0-cd43e28b3cde",
   "metadata": {},
   "source": [
    "## Set-up\n",
    "### PostgreSQL\n",
    "#### Start PostgreSQL database using the controlboard\n",
    "Let's assume our raw data lives in a PostgreSQL database. Follow the instructions in the Notebook [Controlboard](controlboard.ipynb). \n",
    "\n",
    "#### Create a new table for dbt in PostgreSQL\n",
    "<div class=\"alert alert-block alert-info\">\n",
    "<b>Note:</b> To run this code, make sure you select \"Python 3 (ipkernel)\" (Kernel -> Change Kernel)\n",
    "</div>\n",
    "\n",
    "Create a new database for this tutorial:"
   ]
  },
  {
   "cell_type": "code",
   "execution_count": 1,
   "id": "c37bb6a8-d171-4e4c-b0b1-b268164b0db8",
   "metadata": {},
   "outputs": [],
   "source": [
    "from sqlalchemy import create_engine, MetaData\n",
    "from sqlalchemy_utils import database_exists, create_database\n",
    "from urllib import parse"
   ]
  },
  {
   "cell_type": "code",
   "execution_count": 4,
   "id": "30ff52cf-0818-4e9f-82ee-5bbea4cdd807",
   "metadata": {},
   "outputs": [],
   "source": [
    "# Name of your database - this database does NOT exist yet (create it below with `create_database()`)\n",
    "database = 'tutorial'\n",
    "username = 'dbuser'\n",
    "password = 'rA4I2WYECsV4bqbw'\n",
    "\n",
    "# Connection details according to docker-compose.yml - do not change this\n",
    "dialect = 'postgresql'  # Could be almost any other DB technology\n",
    "host = 'postgresql.myproject.svc.cluster.local'  # Name of the Kubernetes service\n",
    "port = 5432\n",
    "\n",
    "# URL-encode password for characters like %, ä, ...\n",
    "password = parse.quote_plus(password)\n",
    "\n",
    "url = f'{dialect}://{username}:{password}@{host}:{port}/{database}'\n",
    "engine = create_engine(url)"
   ]
  },
  {
   "cell_type": "code",
   "execution_count": 5,
   "id": "72c589d2-d3bb-4a45-b8cb-62ef1a15d7c5",
   "metadata": {},
   "outputs": [
    {
     "name": "stdout",
     "output_type": "stream",
     "text": [
      "Database \"tutorial\" exists: True\n"
     ]
    }
   ],
   "source": [
    "if not database_exists(engine.url):\n",
    "    create_database(engine.url)\n",
    "\n",
    "print(f'Database \"{database}\" exists: {database_exists(engine.url)}')"
   ]
  },
  {
   "cell_type": "markdown",
   "id": "e9c445c0-a147-4411-8adf-65b8dc67b92c",
   "metadata": {},
   "source": [
    "### Init dbt\n",
    "We are using the Terminal within Jupyter since dbt expects some answers using the command prompt - this is impossible to implement using Jupyter cells here :-(. \n",
    "\n",
    "1. In Jupyter, hit the blue \"+\" sign at the top left and start a new Terminal\n",
    "2. Create a new folder for dbt projects, then navigate to it:\n",
    "```console\n",
    "mkdir -p ~/work/dbt\n",
    "cd ~/work/dbt\n",
    "```\n",
    "3. Tell the Terminal that you want to use the Python environment `dbt` instead of the standard `base` one (otherwise you'll get an error \"bash: dbt: command not found\"):\n",
    "```console\n",
    "(base) jovyan@...:~/$ conda activate dbt\n",
    "(dbt) jovyan@...:~/$ \n",
    "```"
   ]
  },
  {
   "cell_type": "markdown",
   "id": "725511d1-e274-4247-b84c-a42f984cf371",
   "metadata": {},
   "source": [
    "4. Initialize dbt to create a new project called e.g. `tutorial` an entire new folder structure for your dbt project:\n",
    "```console\n",
    "dbt init tutorial\n",
    "```\n",
    "5. Answer dbt's questions e.g. like this:\n",
    "    * Enter a name for your project (letters, digits, underscore): `tutorial`\n",
    "    * Which database would you like to use? `1`\n",
    "6. dbt saves connection infos by default to `~/.dbt/profiles.yml`. This is not useful since that file will be lost quickly if our Jupyter pod get deleted. Let's safe settings to e.g. `/data/dbt`:\n",
    "```console\n",
    "$ mkdir ~/data/dbt\n",
    "```\n",
    "7. Using Jupyter's file browser on the left, navigate to `/data/dbt`, right click into the empty large field below \"Name\" and create a new file called `profiles.yml`. Double click to open it.\n",
    "8. Paste the following. Don't forget to set a password; the rest should be fine as-is.\n",
    "```yaml\n",
    "tutorial:\n",
    "  outputs:\n",
    "\n",
    "    dev:\n",
    "      type: postgres\n",
    "      threads: 1\n",
    "      host: postgresql.myproject.svc.cluster.local\n",
    "      port: 5432\n",
    "      user: dbuser\n",
    "      pass: rA4I2WYECsV4bqbw\n",
    "      dbname: tutorial\n",
    "      schema: public\n",
    "\n",
    "  target: dev\n",
    "\n",
    "```\n",
    "9. Test your set-up using the terminal again:\n",
    "```console\n",
    "$ cd /home/jovyan/work/dbt/tutorial\n",
    "$ dbt debug --profiles-dir /home/jovyan/data/dbt\n",
    "```"
   ]
  },
  {
   "cell_type": "markdown",
   "id": "7276df06-98c7-4a92-b8db-984e14eaddeb",
   "metadata": {},
   "source": [
    "## Set-up "
   ]
  },
  {
   "cell_type": "markdown",
   "id": "b9ef23e9-4f10-4cc4-9da3-f0d2e193d6b2",
   "metadata": {},
   "source": [
    "Make sure that you can view hidden Linux files: go to View -> \"Show Hidden Files\"\n",
    "<div class=\"alert alert-block alert-info\">\n",
    "<b>Note:</b> Jupyter's \"Show Hidden Files\" is currently broken - you won't see all dbt files. Either edit any dbt files on your host computer or use the Jupyter command prompt.\n",
    "</div>"
   ]
  },
  {
   "cell_type": "markdown",
   "id": "0fee02c1-71d8-4e66-93c0-a243df68c288",
   "metadata": {},
   "source": [
    "## Set-up git\n",
    "Todo"
   ]
  },
  {
   "cell_type": "markdown",
   "id": "3c06b803-c366-4193-b4c5-060c8b8d174c",
   "metadata": {},
   "source": [
    "## Extract and load\n",
    "Switch kernel from `dbt` to `Python 3 (ipkernel)`"
   ]
  },
  {
   "cell_type": "code",
   "execution_count": null,
   "id": "63c5186e-52ae-4713-91b7-c89911386c38",
   "metadata": {},
   "outputs": [],
   "source": [
    "from sqlalchemy import create_engine, MetaData\n",
    "from sqlalchemy_utils import database_exists, create_database\n",
    "from urllib import parse\n",
    "\n",
    "import pandas as pd\n",
    "import requests\n",
    "import json\n",
    "\n",
    "raw_data_url = 'https://github.com/openZH/covid_19/raw/master/fallzahlen_kanton_alter_geschlecht_csv/COVID19_Fallzahlen_Kanton_ZH_altersklassen_geschlecht.csv'\n",
    "coingecko = 'https://api.coingecko.com/api/v3'\n",
    "endpoint = '/coins/ethereum/market_chart'\n",
    "params = {\n",
    "    'vs_currency': 'CHF',\n",
    "    'days': 90,\n",
    "    'interval': 'hourly'\n",
    "}"
   ]
  },
  {
   "cell_type": "code",
   "execution_count": null,
   "id": "184778cb-b5ec-4e37-99ab-c6ed76d5045f",
   "metadata": {},
   "outputs": [],
   "source": [
    "# Name of your database - this database does NOT exist yet (create it below with `create_database()`)\n",
    "database = 'tutorial'\n",
    "username = 'dbuser'\n",
    "password = '662VZUE5RJJG2puI'\n",
    "\n",
    "# Connection details according to docker-compose.yml - do not change this\n",
    "dialect = 'postgresql'  # Could be almost any other DB technology\n",
    "host = 'postgresql.myproject.svc.cluster.local'  # Name of the Kubernetes service\n",
    "port = 5432\n",
    "\n",
    "# URL-encode password for characters like %, ä, ...\n",
    "password = parse.quote_plus(password)\n",
    "\n",
    "url = f'{dialect}://{username}:{password}@{host}:{port}/{database}'\n",
    "engine = create_engine(url)"
   ]
  },
  {
   "cell_type": "code",
   "execution_count": null,
   "id": "8627bb65-a5c1-420a-b2c4-08a3f68759c0",
   "metadata": {},
   "outputs": [],
   "source": [
    "if not database_exists(engine.url):\n",
    "    create_database(engine.url)\n",
    "\n",
    "print(f'Database \"{database}\" exists: {database_exists(engine.url)}')"
   ]
  },
  {
   "cell_type": "code",
   "execution_count": null,
   "id": "920be0c9-de8a-4254-9f77-60e3ff948dac",
   "metadata": {},
   "outputs": [],
   "source": [
    "df = pd.read_csv(raw_data_url)\n",
    "df"
   ]
  },
  {
   "cell_type": "code",
   "execution_count": null,
   "id": "68a4c537-b399-4f2c-8c23-79acae9b1eb0",
   "metadata": {},
   "outputs": [],
   "source": [
    "r = requests.get(coingecko + endpoint, params=params)\n",
    "r"
   ]
  },
  {
   "cell_type": "code",
   "execution_count": null,
   "id": "592d3d1a-b17f-40eb-91c2-55efb4721043",
   "metadata": {},
   "outputs": [],
   "source": [
    "df = json.loads(r.text)\n",
    "df = df['prices']\n",
    "df = pd.DataFrame(df, columns=['time', 'value'])"
   ]
  },
  {
   "cell_type": "code",
   "execution_count": null,
   "id": "960a8114-c370-4e61-a939-0fd5d3efd9f4",
   "metadata": {},
   "outputs": [],
   "source": [
    "df['time'] = pd.to_datetime(df['time'] * 1000000)"
   ]
  },
  {
   "cell_type": "code",
   "execution_count": null,
   "id": "310d4f3f-85a4-48e5-aa5f-31585e66fa33",
   "metadata": {},
   "outputs": [],
   "source": [
    "df"
   ]
  },
  {
   "cell_type": "code",
   "execution_count": null,
   "id": "107ec699-e310-4a19-87ff-3ed12b17622a",
   "metadata": {},
   "outputs": [],
   "source": [
    "df.to_sql(\n",
    "    'raw_data',  # table name\n",
    "    con=engine,\n",
    "    if_exists='replace',\n",
    "    index=False,  # In order to avoid writing DataFrame index as a column\n",
    ")"
   ]
  },
  {
   "cell_type": "code",
   "execution_count": null,
   "id": "ac1704b8-8529-40b1-bb1a-2a6b8406f4af",
   "metadata": {},
   "outputs": [],
   "source": [
    "df2 = pd.read_sql('SELECT * FROM raw_data', con=engine)"
   ]
  },
  {
   "cell_type": "code",
   "execution_count": null,
   "id": "e5f22d2f-cbc2-4312-b309-e22a0b603c6f",
   "metadata": {},
   "outputs": [],
   "source": [
    "df2"
   ]
  },
  {
   "cell_type": "markdown",
   "id": "f5089952-6dca-4f53-a144-eb950bf4b61f",
   "metadata": {},
   "source": [
    "## Airports and flights"
   ]
  },
  {
   "cell_type": "code",
   "execution_count": null,
   "id": "bb589cd6-2448-440d-9923-5bce3ce7fa4a",
   "metadata": {},
   "outputs": [],
   "source": [
    "raw_data = (\n",
    "    ('airports', 'https://github.com/hgrif/dbt_tutorial/raw/master/flights_data/airports.csv'),\n",
    "    ('carriers', 'https://github.com/hgrif/dbt_tutorial/raw/master/flights_data/carriers.csv'),\n",
    "    ('flights', 'https://github.com/hgrif/dbt_tutorial/raw/master/flights_data/flights.csv')\n",
    ")\n",
    "for table, url in raw_data:\n",
    "    df = pd.read_csv(url)\n",
    "    df.to_sql(table, con=engine, if_exists='replace')"
   ]
  },
  {
   "cell_type": "code",
   "execution_count": null,
   "id": "46ca8f03-d6aa-4535-a93a-8c9d4588e316",
   "metadata": {},
   "outputs": [],
   "source": []
  }
 ],
 "metadata": {
  "kernelspec": {
   "display_name": "Python 3 (ipykernel)",
   "language": "python",
   "name": "python3"
  },
  "language_info": {
   "codemirror_mode": {
    "name": "ipython",
    "version": 3
   },
   "file_extension": ".py",
   "mimetype": "text/x-python",
   "name": "python",
   "nbconvert_exporter": "python",
   "pygments_lexer": "ipython3",
   "version": "3.10.6"
  }
 },
 "nbformat": 4,
 "nbformat_minor": 5
}
