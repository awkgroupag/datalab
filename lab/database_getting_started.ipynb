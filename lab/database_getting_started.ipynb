{
 "cells": [
  {
   "cell_type": "markdown",
   "metadata": {},
   "source": [
    "# Getting started with your database\n",
    "### Database-coding using SQLAlchemy and another (!!) Jupyter Notebook\n",
    "Start a [Vanilla Jupyterlab](ControlBoard.ipynb#Vanilla-Jupyter-Datascience-Notebook) instance, then **copy** the code snippets below. Don't use this AWK DataLab Controlboard directly ;-).\n",
    "### Imports"
   ]
  },
  {
   "cell_type": "code",
   "execution_count": 1,
   "metadata": {},
   "outputs": [],
   "source": [
    "from sqlalchemy import create_engine, MetaData\n",
    "from sqlalchemy_utils import database_exists, create_database\n",
    "from urllib import parse\n",
    "from dotenv import dotenv_values\n",
    "\n",
    "import pandas as pd"
   ]
  },
  {
   "cell_type": "markdown",
   "metadata": {},
   "source": [
    "\n",
    "### Connect to your database\n",
    "SQLAlchemy let's you use the same syntax and logic for different databases. All you need to change is the connection piece. You'll receive an `Engine`-object from SQLAlchemy (the connection won't be established until you do something with it). [Check here](https://docs.sqlalchemy.org/en/13/core/connections.html) to get started.\n",
    "\n",
    "#### The Passwords will be different for you\n",
    "To get the passwords below, use the initial `helm upgrade --install ...` command. Or (more complex), grab the [passwords from the respective Kubernetes secret](https://kubernetes.io/docs/tasks/configmap-secret/managing-secret-using-kubectl/#decoding-secret), e.g. named `postgresql`.\n",
    "\n",
    "#### PostgreSQL (state of the art)"
   ]
  },
  {
   "cell_type": "code",
   "execution_count": 2,
   "metadata": {},
   "outputs": [],
   "source": [
    "# Path and filename to your env file where you stored your credentials to your\n",
    "# PostgreSQL db (see controlboard)\n",
    "postgresql_file = './postgres.env'\n",
    "# Name of your database - this database does NOT exist yet (create it below with `create_database()`)\n",
    "database = 'my-new-database'\n",
    "\n",
    "# Connection details - you should not need to change this\n",
    "dialect = 'postgresql'  # Could be almost any other DB technology\n",
    "host = 'postgresql'  # Name of the Kubernetes service\n",
    "port = 5432\n",
    "\n",
    "###############################\n",
    "# Get credentials from env file\n",
    "config = dotenv_values(postgresql_file)\n",
    "username = config['USERNAME']\n",
    "password = config['PASSWORD']\n",
    "\n",
    "# URL-encode password for characters like %, ä, ...\n",
    "password = parse.quote_plus(password)\n",
    "\n",
    "url = f'{dialect}://{username}:{password}@{host}:{port}/{database}'\n",
    "engine = create_engine(url)"
   ]
  },
  {
   "cell_type": "markdown",
   "metadata": {},
   "source": [
    "#### MySQL (connect as root)"
   ]
  },
  {
   "cell_type": "code",
   "execution_count": 3,
   "metadata": {},
   "outputs": [
    {
     "ename": "KeyError",
     "evalue": "'ROOT_PASSWORD'",
     "output_type": "error",
     "traceback": [
      "\u001b[0;31m---------------------------------------------------------------------------\u001b[0m",
      "\u001b[0;31mKeyError\u001b[0m                                  Traceback (most recent call last)",
      "Cell \u001b[0;32mIn [3], line 11\u001b[0m\n\u001b[1;32m      9\u001b[0m config \u001b[38;5;241m=\u001b[39m dotenv_values(mysql_file)\n\u001b[1;32m     10\u001b[0m username \u001b[38;5;241m=\u001b[39m \u001b[38;5;124m'\u001b[39m\u001b[38;5;124mroot\u001b[39m\u001b[38;5;124m'\u001b[39m  \u001b[38;5;66;03m# Only root user can create a new database\u001b[39;00m\n\u001b[0;32m---> 11\u001b[0m password \u001b[38;5;241m=\u001b[39m \u001b[43mconfig\u001b[49m\u001b[43m[\u001b[49m\u001b[38;5;124;43m'\u001b[39;49m\u001b[38;5;124;43mROOT_PASSWORD\u001b[39;49m\u001b[38;5;124;43m'\u001b[39;49m\u001b[43m]\u001b[49m\n\u001b[1;32m     13\u001b[0m \u001b[38;5;66;03m# Connection details according to docker-compose.yml - do not change this\u001b[39;00m\n\u001b[1;32m     14\u001b[0m dialect \u001b[38;5;241m=\u001b[39m \u001b[38;5;124m'\u001b[39m\u001b[38;5;124mmysql+mysqlconnector\u001b[39m\u001b[38;5;124m'\u001b[39m  \u001b[38;5;66;03m# Could be almost any other DB technology\u001b[39;00m\n",
      "\u001b[0;31mKeyError\u001b[0m: 'ROOT_PASSWORD'"
     ]
    }
   ],
   "source": [
    "# Path and filename to your env file where you stored your credentials to your\n",
    "# PostgreSQL db (see controlboard)\n",
    "mysql_file = './mysql.env'\n",
    "# Name of your database - this database does NOT exist yet (create it below with `create_database()`)\n",
    "database = 'my-new-database'\n",
    "\n",
    "###############################\n",
    "# Get credentials from env file\n",
    "config = dotenv_values(mysql_file)\n",
    "username = 'root'  # Only root user can create a new database\n",
    "password = config['ROOT_PASSWORD']\n",
    "\n",
    "# Connection details according to docker-compose.yml - do not change this\n",
    "dialect = 'mysql+mysqlconnector'  # Could be almost any other DB technology\n",
    "host = 'mysql'\n",
    "port = 3306\n",
    "# URL-encode password for characters like %, ä, ...\n",
    "password = parse.quote_plus(password)\n",
    "\n",
    "url = f'{dialect}://{username}:{password}@{host}:{port}/{database}'\n",
    "engine = create_engine(url)"
   ]
  },
  {
   "cell_type": "markdown",
   "metadata": {},
   "source": [
    "***\n",
    "## Create a new database once (you start with an empty database)"
   ]
  },
  {
   "cell_type": "markdown",
   "metadata": {},
   "source": [
    "Create a new database called `my-new-database` (or anything, really). This command should return the value `True`, which means you could also successfully connect to the db"
   ]
  },
  {
   "cell_type": "code",
   "execution_count": 4,
   "metadata": {},
   "outputs": [
    {
     "name": "stdout",
     "output_type": "stream",
     "text": [
      "Database \"my-new-database\" exists: True\n"
     ]
    }
   ],
   "source": [
    "if not database_exists(engine.url):\n",
    "    create_database(engine.url)\n",
    "\n",
    "print(f'Database \"{database}\" exists: {database_exists(engine.url)}')"
   ]
  },
  {
   "cell_type": "markdown",
   "metadata": {},
   "source": [
    "## Load example data into the database\n",
    "### Postgres\n",
    "Download `northwind.sql` from [this link](https://github.com/pthom/northwind_psql/raw/master/northwind.sql) (shift-click, then `Save link as...`), taken from the famous [Northwind example database](https://github.com/pthom/northwind_psql). Move the file into your `work` directory mounted in Jupyter."
   ]
  },
  {
   "cell_type": "code",
   "execution_count": 6,
   "metadata": {},
   "outputs": [],
   "source": [
    "sql = open(\"/home/jovyan/work/northwind.sql\").read()\n",
    "with engine.begin() as connection:\n",
    "    connection.execute(sql)"
   ]
  },
  {
   "cell_type": "markdown",
   "metadata": {
    "jp-MarkdownHeadingCollapsed": true,
    "tags": []
   },
   "source": [
    "### MySQL\n",
    "MySQL needs more work. Download the database schema `northwind.sql` and the actual data `northwind-data.sql` from [this Github Repo](https://github.com/dalers/mywind). Move the 2 files into your `work` directory mounted in Jupyter.\n",
    "\n",
    "Read the SQL commands in sequence and feed the individual commands (separated by a `;` and a subsequent line-break) individually to MySQL:"
   ]
  },
  {
   "cell_type": "code",
   "execution_count": null,
   "metadata": {},
   "outputs": [],
   "source": [
    "for filename in (\"/home/jovyan/work/northwind.sql\", \"/home/jovyan/work/northwind-data.sql\"):\n",
    "    sql = open(filename).read()\n",
    "    with engine.begin() as connection:\n",
    "        for command in sql.split(';\\n'):\n",
    "            if not command.strip() or command.startswith('--'):\n",
    "                # Empty or commented line - MySQL would throw an exception\n",
    "                continue\n",
    "            connection.execute(command)"
   ]
  },
  {
   "cell_type": "markdown",
   "metadata": {},
   "source": [
    "***\n",
    "## Explore the DB\n",
    "Apart from the database itself and the table, you might need to specify a schema. In our case:"
   ]
  },
  {
   "cell_type": "code",
   "execution_count": 7,
   "metadata": {},
   "outputs": [],
   "source": [
    "# Postgres - let's use the standard/default schema\n",
    "schema = 'public'"
   ]
  },
  {
   "cell_type": "code",
   "execution_count": null,
   "metadata": {},
   "outputs": [],
   "source": [
    "# MySQL - the load above created its own schema\n",
    "schema = 'northwind'"
   ]
  },
  {
   "cell_type": "markdown",
   "metadata": {},
   "source": [
    "List all tables in the current database. SQLAlchemy uses an object called `MetaData` to describe the database:"
   ]
  },
  {
   "cell_type": "code",
   "execution_count": 8,
   "metadata": {},
   "outputs": [
    {
     "data": {
      "text/plain": [
       "dict_keys(['public.us_states', 'public.customers', 'public.orders', 'public.employees', 'public.shippers', 'public.products', 'public.categories', 'public.suppliers', 'public.order_details', 'public.region', 'public.territories', 'public.employee_territories', 'public.customer_demographics', 'public.customer_customer_demo'])"
      ]
     },
     "execution_count": 8,
     "metadata": {},
     "output_type": "execute_result"
    }
   ],
   "source": [
    "# Associate the metadata with our database (the engine-object)\n",
    "meta = MetaData(bind=engine, schema=schema)\n",
    "# Load the existing database metadata from the database into meta\n",
    "meta.reflect()\n",
    "# Print all tables\n",
    "meta.tables.keys()"
   ]
  },
  {
   "cell_type": "markdown",
   "metadata": {},
   "source": [
    "Print all columns of all tables of the current database:"
   ]
  },
  {
   "cell_type": "code",
   "execution_count": 9,
   "metadata": {},
   "outputs": [
    {
     "name": "stdout",
     "output_type": "stream",
     "text": [
      "categories: category_id\n",
      "categories: category_name\n",
      "categories: description\n",
      "categories: picture\n",
      "customer_demographics: customer_type_id\n",
      "customer_demographics: customer_desc\n",
      "customers: customer_id\n",
      "customers: company_name\n",
      "customers: contact_name\n",
      "customers: contact_title\n",
      "customers: address\n",
      "customers: city\n",
      "customers: region\n",
      "customers: postal_code\n",
      "customers: country\n",
      "customers: phone\n",
      "customers: fax\n",
      "employees: employee_id\n",
      "employees: last_name\n",
      "employees: first_name\n",
      "employees: title\n",
      "employees: title_of_courtesy\n",
      "employees: birth_date\n",
      "employees: hire_date\n",
      "employees: address\n",
      "employees: city\n",
      "employees: region\n",
      "employees: postal_code\n",
      "employees: country\n",
      "employees: home_phone\n",
      "employees: extension\n",
      "employees: photo\n",
      "employees: notes\n",
      "employees: reports_to\n",
      "employees: photo_path\n",
      "region: region_id\n",
      "region: region_description\n",
      "shippers: shipper_id\n",
      "shippers: company_name\n",
      "shippers: phone\n",
      "suppliers: supplier_id\n",
      "suppliers: company_name\n",
      "suppliers: contact_name\n",
      "suppliers: contact_title\n",
      "suppliers: address\n",
      "suppliers: city\n",
      "suppliers: region\n",
      "suppliers: postal_code\n",
      "suppliers: country\n",
      "suppliers: phone\n",
      "suppliers: fax\n",
      "suppliers: homepage\n",
      "us_states: state_id\n",
      "us_states: state_name\n",
      "us_states: state_abbr\n",
      "us_states: state_region\n",
      "customer_customer_demo: customer_id\n",
      "customer_customer_demo: customer_type_id\n",
      "orders: order_id\n",
      "orders: customer_id\n",
      "orders: employee_id\n",
      "orders: order_date\n",
      "orders: required_date\n",
      "orders: shipped_date\n",
      "orders: ship_via\n",
      "orders: freight\n",
      "orders: ship_name\n",
      "orders: ship_address\n",
      "orders: ship_city\n",
      "orders: ship_region\n",
      "orders: ship_postal_code\n",
      "orders: ship_country\n",
      "products: product_id\n",
      "products: product_name\n",
      "products: supplier_id\n",
      "products: category_id\n",
      "products: quantity_per_unit\n",
      "products: unit_price\n",
      "products: units_in_stock\n",
      "products: units_on_order\n",
      "products: reorder_level\n",
      "products: discontinued\n",
      "territories: territory_id\n",
      "territories: territory_description\n",
      "territories: region_id\n",
      "employee_territories: employee_id\n",
      "employee_territories: territory_id\n",
      "order_details: order_id\n",
      "order_details: product_id\n",
      "order_details: unit_price\n",
      "order_details: quantity\n",
      "order_details: discount\n"
     ]
    }
   ],
   "source": [
    "for table in meta.sorted_tables:\n",
    "    for column in table.columns:\n",
    "        print(f'{table.name}: {column.name}')"
   ]
  },
  {
   "cell_type": "markdown",
   "metadata": {},
   "source": [
    "## SQLAlchemy and Pandas Dataframes\n",
    "SQLAlchemy plays nicely with Pandas. In general, you pass the `Engine`-object to Pandas as well as the schema - that's it.\n",
    "\n",
    "To get you started, try this to **read** an entire DB table into a dataframe `df`:"
   ]
  },
  {
   "cell_type": "code",
   "execution_count": 12,
   "metadata": {},
   "outputs": [
    {
     "data": {
      "text/html": [
       "<div>\n",
       "<style scoped>\n",
       "    .dataframe tbody tr th:only-of-type {\n",
       "        vertical-align: middle;\n",
       "    }\n",
       "\n",
       "    .dataframe tbody tr th {\n",
       "        vertical-align: top;\n",
       "    }\n",
       "\n",
       "    .dataframe thead th {\n",
       "        text-align: right;\n",
       "    }\n",
       "</style>\n",
       "<table border=\"1\" class=\"dataframe\">\n",
       "  <thead>\n",
       "    <tr style=\"text-align: right;\">\n",
       "      <th></th>\n",
       "      <th>company_name</th>\n",
       "      <th>contact_name</th>\n",
       "      <th>contact_title</th>\n",
       "      <th>address</th>\n",
       "      <th>city</th>\n",
       "      <th>region</th>\n",
       "      <th>postal_code</th>\n",
       "      <th>country</th>\n",
       "      <th>phone</th>\n",
       "      <th>fax</th>\n",
       "    </tr>\n",
       "    <tr>\n",
       "      <th>customer_id</th>\n",
       "      <th></th>\n",
       "      <th></th>\n",
       "      <th></th>\n",
       "      <th></th>\n",
       "      <th></th>\n",
       "      <th></th>\n",
       "      <th></th>\n",
       "      <th></th>\n",
       "      <th></th>\n",
       "      <th></th>\n",
       "    </tr>\n",
       "  </thead>\n",
       "  <tbody>\n",
       "    <tr>\n",
       "      <th>ALFKI</th>\n",
       "      <td>Alfreds Futterkiste</td>\n",
       "      <td>Maria Anders</td>\n",
       "      <td>Sales Representative</td>\n",
       "      <td>Obere Str. 57</td>\n",
       "      <td>Berlin</td>\n",
       "      <td>None</td>\n",
       "      <td>12209</td>\n",
       "      <td>Germany</td>\n",
       "      <td>030-0074321</td>\n",
       "      <td>030-0076545</td>\n",
       "    </tr>\n",
       "    <tr>\n",
       "      <th>ANATR</th>\n",
       "      <td>Ana Trujillo Emparedados y helados</td>\n",
       "      <td>Ana Trujillo</td>\n",
       "      <td>Owner</td>\n",
       "      <td>Avda. de la Constitución 2222</td>\n",
       "      <td>México D.F.</td>\n",
       "      <td>None</td>\n",
       "      <td>05021</td>\n",
       "      <td>Mexico</td>\n",
       "      <td>(5) 555-4729</td>\n",
       "      <td>(5) 555-3745</td>\n",
       "    </tr>\n",
       "    <tr>\n",
       "      <th>ANTON</th>\n",
       "      <td>Antonio Moreno Taquería</td>\n",
       "      <td>Antonio Moreno</td>\n",
       "      <td>Owner</td>\n",
       "      <td>Mataderos  2312</td>\n",
       "      <td>México D.F.</td>\n",
       "      <td>None</td>\n",
       "      <td>05023</td>\n",
       "      <td>Mexico</td>\n",
       "      <td>(5) 555-3932</td>\n",
       "      <td>None</td>\n",
       "    </tr>\n",
       "    <tr>\n",
       "      <th>AROUT</th>\n",
       "      <td>Around the Horn</td>\n",
       "      <td>Thomas Hardy</td>\n",
       "      <td>Sales Representative</td>\n",
       "      <td>120 Hanover Sq.</td>\n",
       "      <td>London</td>\n",
       "      <td>None</td>\n",
       "      <td>WA1 1DP</td>\n",
       "      <td>UK</td>\n",
       "      <td>(171) 555-7788</td>\n",
       "      <td>(171) 555-6750</td>\n",
       "    </tr>\n",
       "    <tr>\n",
       "      <th>BERGS</th>\n",
       "      <td>Berglunds snabbköp</td>\n",
       "      <td>Christina Berglund</td>\n",
       "      <td>Order Administrator</td>\n",
       "      <td>Berguvsvägen  8</td>\n",
       "      <td>Luleå</td>\n",
       "      <td>None</td>\n",
       "      <td>S-958 22</td>\n",
       "      <td>Sweden</td>\n",
       "      <td>0921-12 34 65</td>\n",
       "      <td>0921-12 34 67</td>\n",
       "    </tr>\n",
       "    <tr>\n",
       "      <th>...</th>\n",
       "      <td>...</td>\n",
       "      <td>...</td>\n",
       "      <td>...</td>\n",
       "      <td>...</td>\n",
       "      <td>...</td>\n",
       "      <td>...</td>\n",
       "      <td>...</td>\n",
       "      <td>...</td>\n",
       "      <td>...</td>\n",
       "      <td>...</td>\n",
       "    </tr>\n",
       "    <tr>\n",
       "      <th>WARTH</th>\n",
       "      <td>Wartian Herkku</td>\n",
       "      <td>Pirkko Koskitalo</td>\n",
       "      <td>Accounting Manager</td>\n",
       "      <td>Torikatu 38</td>\n",
       "      <td>Oulu</td>\n",
       "      <td>None</td>\n",
       "      <td>90110</td>\n",
       "      <td>Finland</td>\n",
       "      <td>981-443655</td>\n",
       "      <td>981-443655</td>\n",
       "    </tr>\n",
       "    <tr>\n",
       "      <th>WELLI</th>\n",
       "      <td>Wellington Importadora</td>\n",
       "      <td>Paula Parente</td>\n",
       "      <td>Sales Manager</td>\n",
       "      <td>Rua do Mercado, 12</td>\n",
       "      <td>Resende</td>\n",
       "      <td>SP</td>\n",
       "      <td>08737-363</td>\n",
       "      <td>Brazil</td>\n",
       "      <td>(14) 555-8122</td>\n",
       "      <td>None</td>\n",
       "    </tr>\n",
       "    <tr>\n",
       "      <th>WHITC</th>\n",
       "      <td>White Clover Markets</td>\n",
       "      <td>Karl Jablonski</td>\n",
       "      <td>Owner</td>\n",
       "      <td>305 - 14th Ave. S. Suite 3B</td>\n",
       "      <td>Seattle</td>\n",
       "      <td>WA</td>\n",
       "      <td>98128</td>\n",
       "      <td>USA</td>\n",
       "      <td>(206) 555-4112</td>\n",
       "      <td>(206) 555-4115</td>\n",
       "    </tr>\n",
       "    <tr>\n",
       "      <th>WILMK</th>\n",
       "      <td>Wilman Kala</td>\n",
       "      <td>Matti Karttunen</td>\n",
       "      <td>Owner/Marketing Assistant</td>\n",
       "      <td>Keskuskatu 45</td>\n",
       "      <td>Helsinki</td>\n",
       "      <td>None</td>\n",
       "      <td>21240</td>\n",
       "      <td>Finland</td>\n",
       "      <td>90-224 8858</td>\n",
       "      <td>90-224 8858</td>\n",
       "    </tr>\n",
       "    <tr>\n",
       "      <th>WOLZA</th>\n",
       "      <td>Wolski  Zajazd</td>\n",
       "      <td>Zbyszek Piestrzeniewicz</td>\n",
       "      <td>Owner</td>\n",
       "      <td>ul. Filtrowa 68</td>\n",
       "      <td>Warszawa</td>\n",
       "      <td>None</td>\n",
       "      <td>01-012</td>\n",
       "      <td>Poland</td>\n",
       "      <td>(26) 642-7012</td>\n",
       "      <td>(26) 642-7012</td>\n",
       "    </tr>\n",
       "  </tbody>\n",
       "</table>\n",
       "<p>91 rows × 10 columns</p>\n",
       "</div>"
      ],
      "text/plain": [
       "                                   company_name             contact_name  \\\n",
       "customer_id                                                                \n",
       "ALFKI                       Alfreds Futterkiste             Maria Anders   \n",
       "ANATR        Ana Trujillo Emparedados y helados             Ana Trujillo   \n",
       "ANTON                   Antonio Moreno Taquería           Antonio Moreno   \n",
       "AROUT                           Around the Horn             Thomas Hardy   \n",
       "BERGS                        Berglunds snabbköp       Christina Berglund   \n",
       "...                                         ...                      ...   \n",
       "WARTH                            Wartian Herkku         Pirkko Koskitalo   \n",
       "WELLI                    Wellington Importadora            Paula Parente   \n",
       "WHITC                      White Clover Markets           Karl Jablonski   \n",
       "WILMK                               Wilman Kala          Matti Karttunen   \n",
       "WOLZA                            Wolski  Zajazd  Zbyszek Piestrzeniewicz   \n",
       "\n",
       "                         contact_title                        address  \\\n",
       "customer_id                                                             \n",
       "ALFKI             Sales Representative                  Obere Str. 57   \n",
       "ANATR                            Owner  Avda. de la Constitución 2222   \n",
       "ANTON                            Owner                Mataderos  2312   \n",
       "AROUT             Sales Representative                120 Hanover Sq.   \n",
       "BERGS              Order Administrator                Berguvsvägen  8   \n",
       "...                                ...                            ...   \n",
       "WARTH               Accounting Manager                    Torikatu 38   \n",
       "WELLI                    Sales Manager             Rua do Mercado, 12   \n",
       "WHITC                            Owner    305 - 14th Ave. S. Suite 3B   \n",
       "WILMK        Owner/Marketing Assistant                  Keskuskatu 45   \n",
       "WOLZA                            Owner                ul. Filtrowa 68   \n",
       "\n",
       "                    city region postal_code  country           phone  \\\n",
       "customer_id                                                            \n",
       "ALFKI             Berlin   None       12209  Germany     030-0074321   \n",
       "ANATR        México D.F.   None       05021   Mexico    (5) 555-4729   \n",
       "ANTON        México D.F.   None       05023   Mexico    (5) 555-3932   \n",
       "AROUT             London   None     WA1 1DP       UK  (171) 555-7788   \n",
       "BERGS              Luleå   None    S-958 22   Sweden   0921-12 34 65   \n",
       "...                  ...    ...         ...      ...             ...   \n",
       "WARTH               Oulu   None       90110  Finland      981-443655   \n",
       "WELLI            Resende     SP   08737-363   Brazil   (14) 555-8122   \n",
       "WHITC            Seattle     WA       98128      USA  (206) 555-4112   \n",
       "WILMK           Helsinki   None       21240  Finland     90-224 8858   \n",
       "WOLZA           Warszawa   None      01-012   Poland   (26) 642-7012   \n",
       "\n",
       "                        fax  \n",
       "customer_id                  \n",
       "ALFKI           030-0076545  \n",
       "ANATR          (5) 555-3745  \n",
       "ANTON                  None  \n",
       "AROUT        (171) 555-6750  \n",
       "BERGS         0921-12 34 67  \n",
       "...                     ...  \n",
       "WARTH            981-443655  \n",
       "WELLI                  None  \n",
       "WHITC        (206) 555-4115  \n",
       "WILMK           90-224 8858  \n",
       "WOLZA         (26) 642-7012  \n",
       "\n",
       "[91 rows x 10 columns]"
      ]
     },
     "execution_count": 12,
     "metadata": {},
     "output_type": "execute_result"
    }
   ],
   "source": [
    "table_name = 'customers'\n",
    "df = pd.read_sql_table(\n",
    "    table_name,\n",
    "    con=engine,\n",
    "    schema=schema,\n",
    "    index_col='customer_id'  # column name to use as dataframe-index (optional)\n",
    ")\n",
    "df"
   ]
  },
  {
   "cell_type": "markdown",
   "metadata": {},
   "source": [
    "To **write** a dataframe `df` to a new table, do this:"
   ]
  },
  {
   "cell_type": "code",
   "execution_count": 11,
   "metadata": {},
   "outputs": [
    {
     "data": {
      "text/plain": [
       "91"
      ]
     },
     "execution_count": 11,
     "metadata": {},
     "output_type": "execute_result"
    }
   ],
   "source": [
    "table_name = 'customers_copy'\n",
    "\n",
    "df.to_sql(\n",
    "    table_name,\n",
    "    con=engine,\n",
    "    schema=schema,\n",
    "    if_exists='fail',  # What to do with an existing table? Could also be `replace` or `append`\n",
    "    index=True,  # Whether to write the dataframe index as an additional column. Won't be a primary key automatically!\n",
    ")"
   ]
  },
  {
   "cell_type": "markdown",
   "metadata": {
    "tags": []
   },
   "source": [
    "## Create an entity diagram to understand the structure of the database\n",
    "[SQLAlchemy_Schemadisplay](https://github.com/sqlalchemy/sqlalchemy/wiki/SchemaDisplay) allows you to quickly see the structure of a DB like this: ![example schema](https://raw.githubusercontent.com/wiki/sqlalchemy/sqlalchemy/UsageRecipes/SchemaDisplay/schema.png)"
   ]
  },
  {
   "cell_type": "code",
   "execution_count": 13,
   "metadata": {},
   "outputs": [],
   "source": [
    "from sqlalchemy_schemadisplay import create_schema_graph"
   ]
  },
  {
   "cell_type": "markdown",
   "metadata": {},
   "source": [
    "**Postgres only:** We need to do some cleanup as SQLAlchemy did not recognize all DB types: `SAWarning: Did not recognize type 'bpchar' of column 'customer_id'`. Every column needs to have set a type."
   ]
  },
  {
   "cell_type": "code",
   "execution_count": 14,
   "metadata": {},
   "outputs": [
    {
     "name": "stdout",
     "output_type": "stream",
     "text": [
      "customer_demographics: customer_type_id\n",
      "customers: customer_id\n",
      "region: region_description\n",
      "customer_customer_demo: customer_id\n",
      "customer_customer_demo: customer_type_id\n",
      "orders: customer_id\n",
      "territories: territory_description\n"
     ]
    }
   ],
   "source": [
    "# Postgres only\n",
    "# SQLAlchemy has issues with the following columns when using Postgres. They all seem to be strings\n",
    "offending = ['territory_description', 'region_description', 'customer_id', 'customer_type_id']\n",
    "\n",
    "from sqlalchemy.types import VARCHAR\n",
    "\n",
    "for table in meta.sorted_tables:\n",
    "    for column in table.columns:\n",
    "        if column.name in offending:\n",
    "            print(f'{table.name}: {column.name}')\n",
    "            column.type = VARCHAR(32)"
   ]
  },
  {
   "cell_type": "markdown",
   "metadata": {},
   "source": [
    "Create the entity diagram. It will be saved as `db_entity_diagram.png`"
   ]
  },
  {
   "cell_type": "code",
   "execution_count": 15,
   "metadata": {},
   "outputs": [],
   "source": [
    "graph = create_schema_graph(metadata=meta,\n",
    "   show_datatypes=True,\n",
    "   show_indexes=True,\n",
    "   rankdir='LR', # From left to right (instead of top to bottom)\n",
    "   concentrate=False # Don't try to join the relation lines together\n",
    ")\n",
    "\n",
    "graph.write_png('db_entity_diagram.png')"
   ]
  },
  {
   "cell_type": "code",
   "execution_count": null,
   "metadata": {},
   "outputs": [],
   "source": []
  }
 ],
 "metadata": {
  "kernelspec": {
   "display_name": "Python 3 (ipykernel)",
   "language": "python",
   "name": "python3"
  },
  "language_info": {
   "codemirror_mode": {
    "name": "ipython",
    "version": 3
   },
   "file_extension": ".py",
   "mimetype": "text/x-python",
   "name": "python",
   "nbconvert_exporter": "python",
   "pygments_lexer": "ipython3",
   "version": "3.10.6"
  }
 },
 "nbformat": 4,
 "nbformat_minor": 4
}
