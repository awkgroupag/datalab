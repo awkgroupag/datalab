{
 "cells": [
  {
   "cell_type": "markdown",
   "metadata": {
    "tags": []
   },
   "source": [
    "# Best Practices\n",
    "* [How to save your entire computational context if you installed additional Python packages](#How-to-save-your-entire-computational-context-if-you-installed-additional-Python-packages)\n",
    "* [How to safely handle secrets, passwords, tokens](#How-to-safely-handle-secrets,-passwords,-tokens)"
   ]
  },
  {
   "cell_type": "markdown",
   "metadata": {
    "tags": []
   },
   "source": [
    "## How to save your entire computational context if you installed additional Python packages\n",
    "> Execute these commands in your normal Jupyter Notebook (white GUI), not this controlboard (black GUI) ;-)\n",
    "\n",
    "You might change your pod by installing new [**PIP Python packages**](https://pypi.org) e.g. with `pip install <package name>`. Any such change will be lost with the pod. To quickly save your entire pip environment, including all packages, copy-paste the following into your Juypter notebook and run it:"
   ]
  },
  {
   "cell_type": "markdown",
   "metadata": {},
   "source": [
    "```console\n",
    "! pip freeze > /home/jovyan/work/pip-environment.txt\n",
    "```"
   ]
  },
  {
   "cell_type": "markdown",
   "metadata": {},
   "source": [
    "To load your environment again from scratch, e.g. if you re-created your environment/pod:"
   ]
  },
  {
   "cell_type": "markdown",
   "metadata": {},
   "source": [
    "```console\n",
    "! pip install -r /home/jovyan/work/pip-environment.txt\n",
    "```"
   ]
  },
  {
   "cell_type": "markdown",
   "metadata": {},
   "source": [
    "If you installed additional Python packages with [**Anaconda**](https://anaconda.org), `conda install <package name>`, here's how to save the entire conda environment:"
   ]
  },
  {
   "cell_type": "markdown",
   "metadata": {},
   "source": [
    "```console\n",
    "! conda env export -n base > /home/jovyan/work/anaconda-environment.yml\n",
    "```"
   ]
  },
  {
   "cell_type": "markdown",
   "metadata": {},
   "source": [
    "To re-install all Anaconda packages from this file, do:"
   ]
  },
  {
   "cell_type": "markdown",
   "metadata": {},
   "source": [
    "```console\n",
    "! conda env update --name base --file /home/jovyan/work/anaconda-environment.yml\n",
    "```"
   ]
  },
  {
   "cell_type": "markdown",
   "metadata": {
    "tags": []
   },
   "source": [
    "## How to safely handle secrets, passwords, tokens\n",
    "If you need a password to connect to e.g. an API, it's easiest to do this:"
   ]
  },
  {
   "cell_type": "code",
   "execution_count": null,
   "metadata": {},
   "outputs": [],
   "source": [
    "insecure_password = '1234567890asdfghjkl'"
   ]
  },
  {
   "cell_type": "markdown",
   "metadata": {},
   "source": [
    "<div class=\"alert alert-block alert-warning\">\n",
    "<b>WARNING</b> NEVER save secrets in clear text in a Notebook - it's unsafe as you will check the secret into GitHub at some point. Use a dedicated *.env file!\n",
    "</div>"
   ]
  },
  {
   "cell_type": "markdown",
   "metadata": {},
   "source": [
    "Create a new file, e.g. named `environment.env`, in the same directory where your Notebook lies. Add your sensitive information as key-value-pairs like this. Note that **no \\*.env file is checked into GitHub** - you're responsible for backing up this information e.g. using a password manager. \n",
    "```console\n",
    "# Production settings\n",
    "DOMAIN=\"example.org\"\n",
    "ADMIN_EMAIL=\"admin@${DOMAIN}\"\n",
    "ROOT_URL=\"${DOMAIN}/app\"\n",
    "SECURE_PASSWORD=\"1234567890asdfghjkl\"\n",
    "```"
   ]
  },
  {
   "cell_type": "markdown",
   "metadata": {},
   "source": [
    "To use secrets in a Notebook (or any Python-environment), load the env file's contents as key value-pairs in a dictionary `secure_config`:\n",
    "```python\n",
    "from dotenv import dotenv_values\n",
    "\n",
    "secure_config = dotenv_values('environment.env')  # returns a dict {'DOMAIN': 'example.org', 'ADMIN_EMAIL': 'admin@example.org', ...}\n",
    "secure_password = secure_config['SECURE_PASSWORD']\n",
    "```"
   ]
  },
  {
   "cell_type": "markdown",
   "metadata": {},
   "source": [
    "Alternatively, `dotenv` can load your `environment.env` key value-pairs as environment variables - very useful if you need these values somewhere else. Simply do this:\n",
    "```python\n",
    "from dotenv import load_dotenv\n",
    "import os\n",
    "\n",
    "# Load environment variables from environment.env - useably by any other application\n",
    "# If an environment variable already exists, overwrite it\n",
    "load_dotenv('environment.env', override=True)\n",
    "# To use the environment variables here using Python:\n",
    "secure_password = os.getenv('SECURE_PASSWORD')\n",
    "```"
   ]
  }
 ],
 "metadata": {
  "kernelspec": {
   "display_name": "Python 3 (ipykernel)",
   "language": "python",
   "name": "python3"
  },
  "language_info": {
   "codemirror_mode": {
    "name": "ipython",
    "version": 3
   },
   "file_extension": ".py",
   "mimetype": "text/x-python",
   "name": "python",
   "nbconvert_exporter": "python",
   "pygments_lexer": "ipython3",
   "version": "3.10.6"
  },
  "toc-autonumbering": false,
  "toc-showcode": false,
  "toc-showmarkdowntxt": false,
  "toc-showtags": false
 },
 "nbformat": 4,
 "nbformat_minor": 4
}
